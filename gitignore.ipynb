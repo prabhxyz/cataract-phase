{
 "cells": [
  {
   "cell_type": "code",
   "execution_count": 1,
   "id": "5ede1f84-4692-4dd7-98d1-b7e1069bce1d",
   "metadata": {},
   "outputs": [
    {
     "name": "stdout",
     "output_type": "stream",
     "text": [
      "Writing .gitignore\n"
     ]
    }
   ],
   "source": [
    "%%writefile .gitignore\n",
    "# Python cache\n",
    "__pycache__/\n",
    "*.py[cod]\n",
    "*.so\n",
    "*.egg\n",
    "*.egg-info/\n",
    "dist/\n",
    "build/\n",
    "*.ipynb_checkpoints\n",
    "\n",
    "# OS / Editor\n",
    ".DS_Store\n",
    "*.swp\n",
    "*.swo\n",
    "*~\n",
    "\n",
    "# Large Data\n",
    "Cataract-1k-Phase/\n",
    "Cataract-1k-Seg/\n",
    "\n",
    "# Models\n",
    "*.pth\n",
    "*.pt\n",
    "checkpoints/\n",
    "\n",
    "# Logs / Outputs\n",
    "*.log\n",
    "*.csv\n",
    "\n",
    "# Environment\n",
    ".venv/\n",
    "env/\n",
    ".vscode/\n",
    ".idea/\n",
    "\n",
    "# Trash folder\n",
    ".Trash-1000/"
   ]
  }
 ],
 "metadata": {
  "kernelspec": {
   "display_name": "Python 3 (ipykernel)",
   "language": "python",
   "name": "python3"
  },
  "language_info": {
   "codemirror_mode": {
    "name": "ipython",
    "version": 3
   },
   "file_extension": ".py",
   "mimetype": "text/x-python",
   "name": "python",
   "nbconvert_exporter": "python",
   "pygments_lexer": "ipython3",
   "version": "3.10.12"
  }
 },
 "nbformat": 4,
 "nbformat_minor": 5
}
